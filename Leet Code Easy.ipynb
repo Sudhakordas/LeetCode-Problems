{
 "cells": [
  {
   "cell_type": "markdown",
   "id": "8a2dacd5",
   "metadata": {},
   "source": [
    "# 1. Two Sum\n",
    "\n",
    "\n",
    "Given an array of integers nums and an integer target, return indices of the two numbers such that they add up to target.\n",
    "\n",
    "You may assume that each input would have exactly one solution, and you may not use the same element twice.\n",
    "\n",
    "You can return the answer in any order.\n"
   ]
  },
  {
   "cell_type": "code",
   "execution_count": 1,
   "id": "40a4262c",
   "metadata": {},
   "outputs": [],
   "source": [
    "class Solution(object):\n",
    "    def twoSum(self, nums, target):\n",
    "        for i in range((len(nums))):\n",
    "            for j in range(len(nums)):\n",
    "                if i == j:\n",
    "                     continue\n",
    "                if nums[i] + nums[j] == target:\n",
    "                    return [i,j]"
   ]
  },
  {
   "cell_type": "markdown",
   "id": "45c39315",
   "metadata": {},
   "source": [
    "# 9. Palindrome Number\n",
    "Given an integer x, return true if x is a palindrome, and false otherwise.\n",
    "\n",
    "\n"
   ]
  },
  {
   "cell_type": "code",
   "execution_count": 2,
   "id": "f4620a2a",
   "metadata": {},
   "outputs": [],
   "source": [
    "class Solution:\n",
    "    def isPalindrome(self, x: int) -> bool:\n",
    "        list2 = [i for i in str(x)]\n",
    "        list1 = list2.copy()\n",
    "        list2.reverse()\n",
    "        if list1 == list2:\n",
    "            return True\n",
    "        else:\n",
    "            return False"
   ]
  },
  {
   "cell_type": "markdown",
   "id": "fc5c373b",
   "metadata": {},
   "source": [
    "# 13.Roman to Integer\n",
    "Roman numerals are represented by seven different symbols: I, V, X, L, C, D and M.\n",
    "\n",
    "Symbol       Value\n",
    "I             1\n",
    "V             5\n",
    "X             10\n",
    "L             50\n",
    "C             100\n",
    "D             500\n",
    "M             1000\n",
    "For example, 2 is written as II in Roman numeral, just two ones added together. 12 is written as XII, which is simply X + II. The number 27 is written as XXVII, which is XX + V + II.\n",
    "\n",
    "Roman numerals are usually written largest to smallest from left to right. However, the numeral for four is not IIII. Instead, the number four is written as IV. Because the one is before the five we subtract it making four. The same principle applies to the number nine, which is written as IX. There are six instances where subtraction is used:\n",
    "\n",
    "I can be placed before V (5) and X (10) to make 4 and 9. \n",
    "X can be placed before L (50) and C (100) to make 40 and 90. \n",
    "C can be placed before D (500) and M (1000) to make 400 and 900.\n",
    "Given a roman numeral, convert it to an integer.\n",
    "\n",
    "\n"
   ]
  },
  {
   "cell_type": "code",
   "execution_count": 3,
   "id": "5de22680",
   "metadata": {},
   "outputs": [],
   "source": [
    "class Solution:\n",
    "    def romanToInt(self, s: str) -> int:\n",
    "        dic = {'I' : 1,'V' : 5,'X' : 10,\n",
    "        'L' : 50,'C' : 100,'D' : 500,'M' : 1000}\n",
    "        sum = 0\n",
    "        le = len(s)\n",
    "        for i in reversed(range(0, le)):\n",
    "            print(i)\n",
    "            if i-1 >=0 and dic[s[i-1]] < dic[s[i]]:   \n",
    "                sum+=dic[s[i]]-2*dic[s[i-1]]\n",
    "                print('sum:', sum ,'roman :', s[i])\n",
    "            else:\n",
    "                sum+=dic[s[i]] \n",
    "                print('sum:', sum , 'roman :', s[i])\n",
    "        return sum  "
   ]
  },
  {
   "cell_type": "code",
   "execution_count": null,
   "id": "aeda05bc",
   "metadata": {},
   "outputs": [],
   "source": []
  }
 ],
 "metadata": {
  "kernelspec": {
   "display_name": "Python 3 (ipykernel)",
   "language": "python",
   "name": "python3"
  },
  "language_info": {
   "codemirror_mode": {
    "name": "ipython",
    "version": 3
   },
   "file_extension": ".py",
   "mimetype": "text/x-python",
   "name": "python",
   "nbconvert_exporter": "python",
   "pygments_lexer": "ipython3",
   "version": "3.9.12"
  }
 },
 "nbformat": 4,
 "nbformat_minor": 5
}
