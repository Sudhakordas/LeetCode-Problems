{
 "cells": [
  {
   "cell_type": "markdown",
   "id": "8a2dacd5",
   "metadata": {},
   "source": [
    "# 1. Two Sum\n",
    "\n",
    "\n",
    "Given an array of integers nums and an integer target, return indices of the two numbers such that they add up to target.\n",
    "\n",
    "You may assume that each input would have exactly one solution, and you may not use the same element twice.\n",
    "\n",
    "You can return the answer in any order.\n"
   ]
  },
  {
   "cell_type": "code",
   "execution_count": 1,
   "id": "40a4262c",
   "metadata": {},
   "outputs": [],
   "source": [
    "class Solution(object):\n",
    "    def twoSum(self, nums, target):\n",
    "        for i in range((len(nums))):\n",
    "            for j in range(len(nums)):\n",
    "                if i == j:\n",
    "                     continue\n",
    "                if nums[i] + nums[j] == target:\n",
    "                    return [i,j]"
   ]
  },
  {
   "cell_type": "markdown",
   "id": "45c39315",
   "metadata": {},
   "source": [
    "# 9. Palindrome Number\n",
    "Given an integer x, return true if x is a palindrome, and false otherwise.\n",
    "\n",
    "\n"
   ]
  },
  {
   "cell_type": "code",
   "execution_count": 2,
   "id": "f4620a2a",
   "metadata": {},
   "outputs": [],
   "source": [
    "class Solution:\n",
    "    def isPalindrome(self, x: int) -> bool:\n",
    "        list2 = [i for i in str(x)]\n",
    "        list1 = list2.copy()\n",
    "        list2.reverse()\n",
    "        if list1 == list2:\n",
    "            return True\n",
    "        else:\n",
    "            return False"
   ]
  },
  {
   "cell_type": "markdown",
   "id": "fc5c373b",
   "metadata": {},
   "source": [
    "# 13.Roman to Integer\n",
    "Roman numerals are represented by seven different symbols: I, V, X, L, C, D and M.\n",
    "\n",
    "Symbol       Value\n",
    "I             1\n",
    "V             5\n",
    "X             10\n",
    "L             50\n",
    "C             100\n",
    "D             500\n",
    "M             1000\n",
    "For example, 2 is written as II in Roman numeral, just two ones added together. 12 is written as XII, which is simply X + II. The number 27 is written as XXVII, which is XX + V + II.\n",
    "\n",
    "Roman numerals are usually written largest to smallest from left to right. However, the numeral for four is not IIII. Instead, the number four is written as IV. Because the one is before the five we subtract it making four. The same principle applies to the number nine, which is written as IX. There are six instances where subtraction is used:\n",
    "\n",
    "I can be placed before V (5) and X (10) to make 4 and 9. \n",
    "X can be placed before L (50) and C (100) to make 40 and 90. \n",
    "C can be placed before D (500) and M (1000) to make 400 and 900.\n",
    "Given a roman numeral, convert it to an integer.\n",
    "\n",
    "\n"
   ]
  },
  {
   "cell_type": "code",
   "execution_count": 3,
   "id": "5de22680",
   "metadata": {},
   "outputs": [],
   "source": [
    "class Solution:\n",
    "    def romanToInt(self, s: str) -> int:\n",
    "        dic = {'I' : 1,'V' : 5,'X' : 10,\n",
    "        'L' : 50,'C' : 100,'D' : 500,'M' : 1000}\n",
    "        sum = 0\n",
    "        le = len(s)\n",
    "        for i in reversed(range(0, le)):\n",
    "            print(i)\n",
    "            if i-1 >=0 and dic[s[i-1]] < dic[s[i]]:   \n",
    "                sum+=dic[s[i]]-2*dic[s[i-1]]\n",
    "                print('sum:', sum ,'roman :', s[i])\n",
    "            else:\n",
    "                sum+=dic[s[i]] \n",
    "                print('sum:', sum , 'roman :', s[i])\n",
    "        return sum  "
   ]
  },
  {
   "cell_type": "markdown",
   "id": "0bcca055",
   "metadata": {},
   "source": [
    "# 14. Longest Common Prefix\n",
    "Write a function to find the longest common prefix string amongst an array of strings.\n",
    "\n",
    "If there is no common prefix, return an empty string \"\"."
   ]
  },
  {
   "cell_type": "code",
   "execution_count": 3,
   "id": "dd93d1e0",
   "metadata": {},
   "outputs": [],
   "source": [
    "class Solution(object):\n",
    "    def longestCommonPrefix(self, strs):\n",
    "        count = 0\n",
    "        strs.sort(key = len)\n",
    "        print(strs)\n",
    "        if (len(strs))>1 :\n",
    "            x = strs[0]\n",
    "            output = []\n",
    "            isnotfound = False\n",
    "            \n",
    "            for ele in x: \n",
    "                index = count\n",
    "                for i in range(1, len(strs)):\n",
    "                    if ele == strs[i][index]:\n",
    "                        pass\n",
    "                    else:\n",
    "                        isnotfound = True\n",
    "                count = count + 1\n",
    "                if isnotfound == True:\n",
    "                    break\n",
    "                output.append(ele)\n",
    "            return \"\".join(str(i) for i in output)\n",
    "        \n",
    "        elif len(strs) == 1 and len(strs[0])  == 0 :\n",
    "            return \"\"\n",
    "        else:\n",
    "            return \"\".join(strs)"
   ]
  },
  {
   "cell_type": "markdown",
   "id": "e3d41dfd",
   "metadata": {},
   "source": [
    "# 26. Remove Duplicates from Sorted Array\n",
    "\n",
    "Given an integer array nums sorted in non-decreasing order, remove the duplicates in-place such that each unique element appears only once. The relative order of the elements should be kept the same.\n",
    "\n",
    "Since it is impossible to change the length of the array in some languages, you must instead have the result be placed in the first part of the array nums. More formally, if there are k elements after removing the duplicates, then the first k elements of nums should hold the final result. It does not matter what you leave beyond the first k elements.\n",
    "\n",
    "Return k after placing the final result in the first k slots of nums.\n",
    "\n",
    "Do not allocate extra space for another array. You must do this by modifying the input array in-place with O(1) extra memory."
   ]
  },
  {
   "cell_type": "code",
   "execution_count": 4,
   "id": "e8bccd02",
   "metadata": {},
   "outputs": [],
   "source": [
    "class Solution(object):\n",
    "    def removeDuplicates(self, nums):\n",
    "        l = 1\n",
    "        for r in range(1, len(nums)):\n",
    "            if nums[r] != nums[r-1]:\n",
    "                nums[l] = nums[r]\n",
    "                l+=1\n",
    "        return l"
   ]
  },
  {
   "cell_type": "markdown",
   "id": "dfb24483",
   "metadata": {},
   "source": [
    "# 27. Remove Element\n",
    "\n",
    "Given an integer array nums and an integer val, remove all occurrences of val in nums in-place. The relative order of the elements may be changed.\n",
    "\n",
    "Since it is impossible to change the length of the array in some languages, you must instead have the result be placed in the first part of the array nums. More formally, if there are k elements after removing the duplicates, then the first k elements of nums should hold the final result. It does not matter what you leave beyond the first k elements.\n",
    "\n",
    "Return k after placing the final result in the first k slots of nums.\n",
    "\n",
    "Do not allocate extra space for another array. You must do this by modifying the input array in-place with O(1) extra memory."
   ]
  },
  {
   "cell_type": "code",
   "execution_count": 5,
   "id": "8ce3afba",
   "metadata": {},
   "outputs": [],
   "source": [
    "class Solution(object):\n",
    "    def removeElement(self, nums, val):\n",
    "        while nums.count(val):\n",
    "            print('yes')\n",
    "            nums.remove(val)\n",
    "        return len(nums)"
   ]
  },
  {
   "cell_type": "markdown",
   "id": "278b1ab9",
   "metadata": {},
   "source": [
    "# 35. Search Insert Position\n",
    "\n",
    "Given a sorted array of distinct integers and a target value, return the index if the target is found. If not, return the index where it would be if it were inserted in order.\n",
    "\n",
    "You must write an algorithm with O(log n) runtime complexity."
   ]
  },
  {
   "cell_type": "code",
   "execution_count": 6,
   "id": "7697c227",
   "metadata": {},
   "outputs": [],
   "source": [
    "class Solution(object):\n",
    "    def searchInsert(self, nums, target):\n",
    "        l, r = 0, len(nums)-1\n",
    "        while (l<=r):\n",
    "            mid  = (l+r) // 2\n",
    "            \n",
    "            if nums[mid] == target:\n",
    "                return mid\n",
    "            if target>nums[mid]:\n",
    "                l = mid + 1\n",
    "            else:\n",
    "                r = mid - 1\n",
    "        return l"
   ]
  },
  {
   "cell_type": "markdown",
   "id": "5431d946",
   "metadata": {},
   "source": [
    "# 58. Length of Last Word\n",
    "\n",
    "Given a string s consisting of words and spaces, return the length of the last word in the string.\n",
    "\n",
    "A word is a maximal \n",
    "substring\n",
    " consisting of non-space characters only."
   ]
  },
  {
   "cell_type": "code",
   "execution_count": 4,
   "id": "65db4798",
   "metadata": {},
   "outputs": [],
   "source": [
    "class Solution:\n",
    "    def lengthOfLastWord(self, s: str) -> int:\n",
    "        return len(s.split()[-1])"
   ]
  },
  {
   "cell_type": "markdown",
   "id": "91a91c5b",
   "metadata": {},
   "source": [
    "# 66. Plus One\n",
    "You are given a large integer represented as an integer array digits, where each digits[i] is the ith digit of the integer. The digits are ordered from most significant to least significant in left-to-right order. The large integer does not contain any leading 0's.\n",
    "\n",
    "Increment the large integer by one and return the resulting array of digits."
   ]
  },
  {
   "cell_type": "code",
   "execution_count": 8,
   "id": "98bb17a0",
   "metadata": {},
   "outputs": [],
   "source": [
    "class Solution:\n",
    "    def plusOne(self, digits):\n",
    "        # x= int(''.join([str(i) for i in digits]))\n",
    "        # x = x + 1\n",
    "        # final = [i for i in str(x)]\n",
    "        \n",
    "        # return final\n",
    "        for i in reversed(range(len(digits))):\n",
    "            digits[i] +=1\n",
    "            if digits[i]<10:\n",
    "                x = digits\n",
    "                return digits\n",
    "            else:\n",
    "                digits[i] = 0              \n",
    "        digits.insert(0,1)\n",
    "        return digits"
   ]
  },
  {
   "cell_type": "markdown",
   "id": "6a94b595",
   "metadata": {},
   "source": [
    "# 66. Plus One\n",
    "\n",
    "You are given a large integer represented as an integer array digits, where each digits[i] is the ith digit of the integer. The digits are ordered from most significant to least significant in left-to-right order. The large integer does not contain any leading 0's.\n",
    "\n",
    "Increment the large integer by one and return the resulting array of digits."
   ]
  },
  {
   "cell_type": "code",
   "execution_count": 10,
   "id": "83e6d69e",
   "metadata": {},
   "outputs": [],
   "source": [
    "class Solution:\n",
    "    def plusOne(self, digits: List[int]) -> List[int]:\n",
    "        # x= int(''.join([str(i) for i in digits]))\n",
    "        # x = x + 1\n",
    "        # final = [i for i in str(x)]\n",
    "        \n",
    "        # return final\n",
    "        for i in reversed(range(len(digits))):\n",
    "            digits[i] +=1\n",
    "            if digits[i]<10:\n",
    "                x = digits\n",
    "                return digits\n",
    "            else:\n",
    "                digits[i] = 0              \n",
    "        digits.insert(0,1)\n",
    "        return digits"
   ]
  },
  {
   "cell_type": "markdown",
   "id": "b6d3e0d0",
   "metadata": {},
   "source": [
    "# 67. Add Binary\n",
    "Given two binary strings a and b, return their sum as a binary string."
   ]
  },
  {
   "cell_type": "code",
   "execution_count": 1,
   "id": "1094ce8c",
   "metadata": {},
   "outputs": [],
   "source": [
    "class Solution(object):\n",
    "    def addBinary(self, a, b):\n",
    "        carry = 0\n",
    "        result = ''\n",
    "\n",
    "        a, b = list(a), list(b)\n",
    "\n",
    "        while a or b or carry == 1:\n",
    "            if a:\n",
    "                value = int(a.pop())\n",
    "                carry += value\n",
    "            if b:\n",
    "                value = int(b.pop())\n",
    "                carry += value\n",
    "\n",
    "            result += str(carry % 2)\n",
    "            carry = carry // 2\n",
    "        return result[::-1]"
   ]
  },
  {
   "cell_type": "markdown",
   "id": "0cda1f4c",
   "metadata": {},
   "source": [
    "# 69. Sqrt(x)\n",
    "\n",
    "Given a non-negative integer x, return the square root of x rounded down to the nearest integer. The returned integer should be non-negative as well.\n",
    "\n",
    "You must not use any built-in exponent function or operator.\n",
    "\n",
    "For example, do not use pow(x, 0.5) in c++ or x ** 0.5 in python."
   ]
  },
  {
   "cell_type": "code",
   "execution_count": 1,
   "id": "35309546",
   "metadata": {},
   "outputs": [],
   "source": [
    "class Solution(object):\n",
    "    def mySqrt(self, x):\n",
    "        start = 0\n",
    "        end = x\n",
    "        while(start<=end):\n",
    "            mid = (start+end)//2\n",
    "            mul = mid * mid\n",
    "            if mul == x: return mid\n",
    "            elif (mul>x):end = mid - 1\n",
    "            else:start = mid + 1\n",
    "        return end"
   ]
  },
  {
   "cell_type": "markdown",
   "id": "12341204",
   "metadata": {},
   "source": [
    "# 70. Climbing Stairs\n",
    "\n",
    "You are climbing a staircase. It takes n steps to reach the top.\n",
    "\n",
    "Each time you can either climb 1 or 2 steps. In how many distinct ways can you climb to the top?"
   ]
  },
  {
   "cell_type": "code",
   "execution_count": 12,
   "id": "7ea42c6b",
   "metadata": {},
   "outputs": [],
   "source": [
    "class Solution:\n",
    "    def climbStairs(self, n: int) -> int:\n",
    "                # Dict = {1:1, 2:2, 3:3}\n",
    "\n",
    "        # for i in range(4, n+1):\n",
    "        #     Dict[i] = Dict[i-1] + Dict[i-2]\n",
    "        # return Dict[n]\n",
    "        count = 0\n",
    "        if (n%2 !=0):\n",
    "            for i in range((n//2 + 1)):\n",
    "                count += comb(n,i)\n",
    "                n -= 1\n",
    "        else: \n",
    "            count = 1\n",
    "            for i in range(n//2):\n",
    "                count += comb(n,i)\n",
    "                n -= 1\n",
    "            \n",
    "        return count\n"
   ]
  },
  {
   "cell_type": "markdown",
   "id": "8563fa24",
   "metadata": {},
   "source": [
    "# 136. Single Number\n",
    "\n",
    "Given a non-empty array of integers nums, every element appears twice except for one. Find that single one.\n",
    "\n",
    "You must implement a solution with a linear runtime complexity and use only constant extra space."
   ]
  },
  {
   "cell_type": "code",
   "execution_count": 6,
   "id": "c18e81ae",
   "metadata": {},
   "outputs": [],
   "source": [
    "class Solution(object):\n",
    "    def singleNumber(self, nums):\n",
    "        hash_dic = {}\n",
    "        for ele in nums:\n",
    "            if ele not in hash_dic:\n",
    "                hash_dic[ele] = 1\n",
    "            else:\n",
    "                hash_dic.pop(ele)\n",
    "        for key, values in hash_dic.items():\n",
    "            x = key\n",
    "        return x "
   ]
  },
  {
   "cell_type": "markdown",
   "id": "3717fdf2",
   "metadata": {},
   "source": [
    "# 169. Majority Element\n",
    "\n",
    "Given an array nums of size n, return the majority element.\n",
    "\n",
    "The majority element is the element that appears more than ⌊n / 2⌋ times. You may assume that the majority element always exists in the array."
   ]
  },
  {
   "cell_type": "code",
   "execution_count": 3,
   "id": "9c1c67fc",
   "metadata": {},
   "outputs": [],
   "source": [
    "class Solution(object):\n",
    "    def majorityElement(self, nums):\n",
    "        li = {}\n",
    "        unique = np.unique(nums)\n",
    "        for n in unique:\n",
    "            if n not in li:\n",
    "                li[n] = 'yes'\n",
    "            if nums.count(n) > int(len(nums)/2):\n",
    "                return n"
   ]
  },
  {
   "cell_type": "markdown",
   "id": "fc54e162",
   "metadata": {},
   "source": [
    "# 202. Happy Number\n",
    "\n",
    "Write an algorithm to determine if a number n is happy.\n",
    "\n",
    "A happy number is a number defined by the following process:\n",
    "\n",
    "Starting with any positive integer, replace the number by the sum of the squares of its digits.\n",
    "Repeat the process until the number equals 1 (where it will stay), or it loops endlessly in a cycle which does not include 1.\n",
    "Those numbers for which this process ends in 1 are happy.\n",
    "Return true if n is a happy number, and false if not."
   ]
  },
  {
   "cell_type": "code",
   "execution_count": 6,
   "id": "9c9360da",
   "metadata": {},
   "outputs": [],
   "source": [
    "class Solution(object):\n",
    "    def isHappy(self, n):\n",
    "        \"\"\"\n",
    "        :type n: int\n",
    "        :rtype: bool\n",
    "        \"\"\"\n",
    "        s = set()\n",
    "        while n != 1:\n",
    "            if n in s: return False\n",
    "            s.add(n)\n",
    "\n",
    "            _sum = 0\n",
    "            while n:\n",
    "                _sum += (n % 10) ** 2\n",
    "                n //= 10\n",
    "            n = _sum\n",
    "\n",
    "        return n == 1"
   ]
  },
  {
   "cell_type": "markdown",
   "id": "803d1217",
   "metadata": {},
   "source": [
    "# 205. Isomorphic Strings\n",
    "\n",
    "Given two strings s and t, determine if they are isomorphic.\n",
    "\n",
    "Two strings s and t are isomorphic if the characters in s can be replaced to get t.\n",
    "\n",
    "All occurrences of a character must be replaced with another character while preserving the order of characters. No two characters may map to the same character, but a character may map to itself."
   ]
  },
  {
   "cell_type": "code",
   "execution_count": 3,
   "id": "6e87579c",
   "metadata": {},
   "outputs": [],
   "source": [
    "class Solution:\n",
    "    def isIsomorphic(self, s: str, t: str) -> bool:\n",
    "        \n",
    "        if len(s) != len(t):\n",
    "            return False\n",
    "\n",
    "        s_dic = {}\n",
    "        t_dic = {}\n",
    "        temp =  ''\n",
    "        temp1 = ''\n",
    "\n",
    "        def get_key(dic, value):\n",
    "            key_list = list(dic.keys())      \n",
    "            val_list = list(dic.values())\n",
    "\n",
    "            if value not in val_list:\n",
    "                return ''        \n",
    "            else:\n",
    "                position = val_list.index(value)\n",
    "                return key_list[position]\n",
    "\n",
    "        count =  0   \n",
    "        for i in s:\n",
    "            s_dic[i] = t[count]\n",
    "            count+=1   \n",
    "\n",
    "        count = 0\n",
    "        for i in t:\n",
    "            t_dic[i] = s[count]\n",
    "            count+=1   \n",
    "            \n",
    "        for i in t:\n",
    "            key = get_key(s_dic,i)\n",
    "            temp += key\n",
    "        for i in s:\n",
    "            key = get_key(t_dic,i)\n",
    "            temp1 += key\n",
    "\n",
    "\n",
    "        if temp == s and temp1 == t:\n",
    "            return True\n",
    "        else:\n",
    "            return False"
   ]
  },
  {
   "cell_type": "markdown",
   "id": "299f8119",
   "metadata": {},
   "source": [
    "# 242. Valid Anagram\n",
    "\n",
    "Given two strings s and t, return true if t is an anagram of s, and false otherwise.\n",
    "\n",
    "An Anagram is a word or phrase formed by rearranging the letters of a different word or phrase, typically using all the original letters exactly once."
   ]
  },
  {
   "cell_type": "code",
   "execution_count": 2,
   "id": "352bb7cd",
   "metadata": {},
   "outputs": [],
   "source": [
    "class Solution(object):\n",
    "    def isAnagram(self, s, t):\n",
    "        if len(s) != len(t):\n",
    "            return False\n",
    "\n",
    "        sdict = {}\n",
    "        for i in s:\n",
    "            if i not in sdict:\n",
    "                sdict[i] = 1\n",
    "            else:\n",
    "                sdict[i] += 1\n",
    "        for i in t:\n",
    "            if (i not in sdict) or (t.count(i) != sdict.get(i)):\n",
    "                return False\n",
    "                break\n",
    "        else:\n",
    "            return True\n"
   ]
  },
  {
   "cell_type": "markdown",
   "id": "219ca513",
   "metadata": {},
   "source": [
    "# 263. Ugly Number\n",
    "\n",
    "Companies\n",
    "An ugly number is a positive integer whose prime factors are limited to 2, 3, and 5.\n",
    "\n",
    "Given an integer n, return true if n is an ugly number."
   ]
  },
  {
   "cell_type": "code",
   "execution_count": 2,
   "id": "5fd04c5e",
   "metadata": {},
   "outputs": [],
   "source": [
    "class Solution(object):\n",
    "    def isUgly(self, n):\n",
    "        if n<= 0:\n",
    "            return False\n",
    "        for p in [2,3,5]:\n",
    "            while n%p == 0:\n",
    "                n = n // p\n",
    "        if n==1:\n",
    "            return True"
   ]
  },
  {
   "cell_type": "markdown",
   "id": "eb478d6f",
   "metadata": {},
   "source": [
    "# 283. Move Zeroes\n",
    "Given an integer array nums, move all 0's to the end of it while maintaining the relative order of the non-zero elements.\n",
    "\n",
    "Note that you must do this in-place without making a copy of the array."
   ]
  },
  {
   "cell_type": "code",
   "execution_count": 4,
   "id": "9457c5f0",
   "metadata": {},
   "outputs": [],
   "source": [
    "class Solution(object):\n",
    "    def moveZeroes(self, nums):\n",
    "        l = 0\n",
    "        for r in range(len(nums)):\n",
    "            if nums[r]:\n",
    "                nums[l], nums[r] = nums[r], nums[l]\n",
    "                l += 1\n",
    "        return nums   "
   ]
  },
  {
   "cell_type": "markdown",
   "id": "28dfebd8",
   "metadata": {},
   "source": [
    "# 345. Reverse Vowels of a String\n",
    "\n",
    "Given a string s, reverse only all the vowels in the string and return it.\n",
    "\n",
    "The vowels are 'a', 'e', 'i', 'o', and 'u', and they can appear in both lower and upper cases, more than once."
   ]
  },
  {
   "cell_type": "code",
   "execution_count": 8,
   "id": "20e0f7d5",
   "metadata": {},
   "outputs": [],
   "source": [
    "class Solution:\n",
    "    def reverseVowels(self, s: str) -> str:\n",
    "        vowels = {'a','A','e','E','i','I','o','O','u','U'}\n",
    "        st = list(s)\n",
    "        l = 0\n",
    "        r = len(st)-1\n",
    "\n",
    "        while(l<r):\n",
    "            if st[l] in vowels and st[r] in vowels:\n",
    "                st[l], st[r] = st[r], st[l]\n",
    "                l += 1\n",
    "                r -= 1\n",
    "                \n",
    "            elif st[l] not in vowels:\n",
    "                l += 1\n",
    "            else:\n",
    "                r -= 1    \n",
    "        return ''.join(st)\n",
    "                "
   ]
  },
  {
   "cell_type": "markdown",
   "id": "0a0e38eb",
   "metadata": {},
   "source": [
    "# 412. Fizz Buzz\n",
    "\n",
    "Given an integer n, return a string array answer (1-indexed) where:\n",
    "\n",
    "answer[i] == \"FizzBuzz\" if i is divisible by 3 and 5.\n",
    "answer[i] == \"Fizz\" if i is divisible by 3.\n",
    "answer[i] == \"Buzz\" if i is divisible by 5.\n",
    "answer[i] == i (as a string) if none of the above conditions are true."
   ]
  },
  {
   "cell_type": "code",
   "execution_count": 4,
   "id": "0cae8fdf",
   "metadata": {},
   "outputs": [],
   "source": [
    "class Solution(object):\n",
    "    def fizzBuzz(self, n):\n",
    "        arr = [\"FizzBuzz\" if (n%3 ==0) and (n%5 ==0) else \"Fizz\" if(n%3==0) else \"Buzz\" if(n%5==0) else str(n) for n in range(1, n+1)]     \n",
    "        return arr"
   ]
  },
  {
   "cell_type": "markdown",
   "id": "912a6c82",
   "metadata": {},
   "source": [
    "# 766. Toeplitz Matrix\n",
    "\n",
    "Given an m x n matrix, return true if the matrix is Toeplitz. Otherwise, return false.\n",
    "\n",
    "A matrix is Toeplitz if every diagonal from top-left to bottom-right has the same elements."
   ]
  },
  {
   "cell_type": "code",
   "execution_count": 6,
   "id": "fc1ca4b0",
   "metadata": {},
   "outputs": [],
   "source": [
    "class Solution(object):\n",
    "    def isToeplitzMatrix(self, matrix):\n",
    "        row = len(matrix)\n",
    "        col = len(matrix[0])\n",
    "        for i in range(1, row):\n",
    "            for j in  range(1, col):\n",
    "                if matrix[i][j] != matrix[i-1][j-1]:\n",
    "                    return False\n",
    "        else:\n",
    "            return True"
   ]
  },
  {
   "cell_type": "markdown",
   "id": "44a5fc47",
   "metadata": {},
   "source": [
    "# 771. Jewels and Stones\n",
    "\n",
    "You're given strings jewels representing the types of stones that are jewels, and stones representing the stones you have. Each character in stones is a type of stone you have. You want to know how many of the stones you have are also jewels.\n",
    "\n",
    "Letters are case sensitive, so \"a\" is considered a different type of stone from \"A\"."
   ]
  },
  {
   "cell_type": "code",
   "execution_count": 1,
   "id": "e41b1cdf",
   "metadata": {},
   "outputs": [],
   "source": [
    "class Solution(object):\n",
    "    def numJewelsInStones(self, jewels, stones):\n",
    "        dic = {}\n",
    "        for j in jewels:\n",
    "            if j not in dic:\n",
    "                dic[j] = 'yes'\n",
    "        count = 0\n",
    "        \n",
    "        for i in stones:\n",
    "            if i in dic.keys():\n",
    "                count += 1\n",
    "        return count"
   ]
  },
  {
   "cell_type": "markdown",
   "id": "527c4b11",
   "metadata": {},
   "source": [
    "# 796. Rotate String\n",
    "Given two strings s and goal, return true if and only if s can become goal after some number of shifts on s.\n",
    "\n",
    "A shift on s consists of moving the leftmost character of s to the rightmost position.\n",
    "\n",
    "For example, if s = \"abcde\", then it will be \"bcdea\" after one shift."
   ]
  },
  {
   "cell_type": "code",
   "execution_count": null,
   "id": "63b5357e",
   "metadata": {},
   "outputs": [],
   "source": [
    "class Solution(object):\n",
    "    def rotateString(self, s, goal):\n",
    "        return len(s) == len(goal) and goal in s + s\n",
    "        "
   ]
  },
  {
   "cell_type": "markdown",
   "id": "00082194",
   "metadata": {},
   "source": [
    "# 1189. Maximum Number of Balloons\n",
    "\n",
    "Given a string text, you want to use the characters of text to form as many instances of the word \"balloon\" as possible.\n",
    "\n",
    "You can use each character in text at most once. Return the maximum number of instances that can be formed."
   ]
  },
  {
   "cell_type": "code",
   "execution_count": 5,
   "id": "9a362b3e",
   "metadata": {},
   "outputs": [],
   "source": [
    "from collections import Counter\n",
    "class Solution(object):\n",
    "    def maxNumberOfBalloons(self, text):\n",
    "        x = Counter(text)\n",
    "        return(min(x['b'], x['a'], x['l']//2, x['o']//2, x['n'] ))"
   ]
  },
  {
   "cell_type": "markdown",
   "id": "a71b5a96",
   "metadata": {},
   "source": [
    "# 1523. Count Odd Numbers in an Interval Range\n",
    "\n",
    "Given two non-negative integers low and high. Return the count of odd numbers between low and high (inclusive)."
   ]
  },
  {
   "cell_type": "code",
   "execution_count": 7,
   "id": "8f86f08d",
   "metadata": {},
   "outputs": [],
   "source": [
    "class Solution(object):\n",
    "    def countOdds(self, low, high):\n",
    "        if low % 2 ==0:\n",
    "            return (high-low + 1)//2\n",
    "        return ((high-low)//2) + 1"
   ]
  },
  {
   "cell_type": "markdown",
   "id": "33dd781e",
   "metadata": {},
   "source": [
    "# 1678. Goal Parser Interpretation\n",
    "\n",
    "You own a Goal Parser that can interpret a string command. The command consists of an alphabet of \"G\", \"()\" and/or \"(al)\" in some order. The Goal Parser will interpret \"G\" as the string \"G\", \"()\" as the string \"o\", and \"(al)\" as the string \"al\". The interpreted strings are then concatenated in the original order.\n",
    "\n",
    "Given the string command, return the Goal Parser's interpretation of command.\n",
    "\n",
    " "
   ]
  },
  {
   "cell_type": "code",
   "execution_count": 3,
   "id": "ddb65921",
   "metadata": {},
   "outputs": [],
   "source": [
    "class Solution(object):\n",
    "    def interpret(self, command):\n",
    "        count = 0\n",
    "        result = []\n",
    "        while(count<len(command)):\n",
    "            if(command[count] == '('):\n",
    "                if(command[count+1] == ')'):\n",
    "                    count+=2\n",
    "                    result.append('o')\n",
    "                elif(command[count+3] == ')'):\n",
    "                    count+=4\n",
    "                    result.append('al')\n",
    "            else:\n",
    "                count+=1\n",
    "                result.append('G')\n",
    "        return ''.join(result)"
   ]
  },
  {
   "cell_type": "markdown",
   "id": "d50d3a63",
   "metadata": {},
   "source": [
    "# 2404. Most Frequent Even Element\n",
    "\n",
    "Given an integer array nums, return the most frequent even element.\n",
    "\n",
    "If there is a tie, return the smallest one. If there is no such element, return -1."
   ]
  },
  {
   "cell_type": "code",
   "execution_count": 2,
   "id": "bbfd1679",
   "metadata": {},
   "outputs": [],
   "source": [
    "class Solution(object):\n",
    "    def mostFrequentEven(self, nums):\n",
    "        dic = {}\n",
    "        for i in nums:\n",
    "            if i%2 == 0:\n",
    "                if i in dic:\n",
    "                    dic[i]+= 1\n",
    "                else:\n",
    "                    dic[i] = 1\n",
    "        if not dic:\n",
    "            return -1\n",
    "        maximum = max(dic.values())\n",
    "        ans = min([k for k, v in dic.items() if v == maximum])\n",
    "        return ans "
   ]
  },
  {
   "cell_type": "markdown",
   "id": "794ccfc4",
   "metadata": {},
   "source": [
    "# 2351. First Letter to Appear Twice\n",
    "\n",
    "Given a string s consisting of lowercase English letters, return the first letter to appear twice."
   ]
  },
  {
   "cell_type": "code",
   "execution_count": null,
   "id": "0059524c",
   "metadata": {},
   "outputs": [],
   "source": [
    "class Solution(object):\n",
    "    def repeatedCharacter(self, s):\n",
    "        dic = {}\n",
    "        for i in s:\n",
    "            if i not in dic:\n",
    "                dic[i] = 1\n",
    "            else:\n",
    "                dic[i] += 1\n",
    "\n",
    "            if dic[i] == 2:\n",
    "                return i\n"
   ]
  },
  {
   "cell_type": "code",
   "execution_count": null,
   "id": "4b13095c",
   "metadata": {},
   "outputs": [],
   "source": []
  },
  {
   "cell_type": "code",
   "execution_count": null,
   "id": "8b44883c",
   "metadata": {},
   "outputs": [],
   "source": []
  },
  {
   "cell_type": "code",
   "execution_count": null,
   "id": "d978d6cd",
   "metadata": {},
   "outputs": [],
   "source": []
  }
 ],
 "metadata": {
  "kernelspec": {
   "display_name": "Python 3 (ipykernel)",
   "language": "python",
   "name": "python3"
  },
  "language_info": {
   "codemirror_mode": {
    "name": "ipython",
    "version": 3
   },
   "file_extension": ".py",
   "mimetype": "text/x-python",
   "name": "python",
   "nbconvert_exporter": "python",
   "pygments_lexer": "ipython3",
   "version": "3.9.12"
  }
 },
 "nbformat": 4,
 "nbformat_minor": 5
}
