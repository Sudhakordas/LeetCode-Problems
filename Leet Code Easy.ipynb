{
 "cells": [
  {
   "cell_type": "markdown",
   "id": "8a2dacd5",
   "metadata": {},
   "source": [
    "# 1. Two Sum\n",
    "\n",
    "\n",
    "Given an array of integers nums and an integer target, return indices of the two numbers such that they add up to target.\n",
    "\n",
    "You may assume that each input would have exactly one solution, and you may not use the same element twice.\n",
    "\n",
    "You can return the answer in any order.\n"
   ]
  },
  {
   "cell_type": "code",
   "execution_count": 1,
   "id": "40a4262c",
   "metadata": {},
   "outputs": [],
   "source": [
    "class Solution(object):\n",
    "    def twoSum(self, nums, target):\n",
    "        for i in range((len(nums))):\n",
    "            for j in range(len(nums)):\n",
    "                if i == j:\n",
    "                     continue\n",
    "                if nums[i] + nums[j] == target:\n",
    "                    return [i,j]"
   ]
  },
  {
   "cell_type": "markdown",
   "id": "45c39315",
   "metadata": {},
   "source": [
    "# 9. Palindrome Number\n",
    "Given an integer x, return true if x is a palindrome, and false otherwise.\n",
    "\n",
    "\n"
   ]
  },
  {
   "cell_type": "code",
   "execution_count": 2,
   "id": "f4620a2a",
   "metadata": {},
   "outputs": [],
   "source": [
    "class Solution:\n",
    "    def isPalindrome(self, x: int) -> bool:\n",
    "        list2 = [i for i in str(x)]\n",
    "        list1 = list2.copy()\n",
    "        list2.reverse()\n",
    "        if list1 == list2:\n",
    "            return True\n",
    "        else:\n",
    "            return False"
   ]
  },
  {
   "cell_type": "markdown",
   "id": "fc5c373b",
   "metadata": {},
   "source": [
    "# 13.Roman to Integer\n",
    "Roman numerals are represented by seven different symbols: I, V, X, L, C, D and M.\n",
    "\n",
    "Symbol       Value\n",
    "I             1\n",
    "V             5\n",
    "X             10\n",
    "L             50\n",
    "C             100\n",
    "D             500\n",
    "M             1000\n",
    "For example, 2 is written as II in Roman numeral, just two ones added together. 12 is written as XII, which is simply X + II. The number 27 is written as XXVII, which is XX + V + II.\n",
    "\n",
    "Roman numerals are usually written largest to smallest from left to right. However, the numeral for four is not IIII. Instead, the number four is written as IV. Because the one is before the five we subtract it making four. The same principle applies to the number nine, which is written as IX. There are six instances where subtraction is used:\n",
    "\n",
    "I can be placed before V (5) and X (10) to make 4 and 9. \n",
    "X can be placed before L (50) and C (100) to make 40 and 90. \n",
    "C can be placed before D (500) and M (1000) to make 400 and 900.\n",
    "Given a roman numeral, convert it to an integer.\n",
    "\n",
    "\n"
   ]
  },
  {
   "cell_type": "code",
   "execution_count": 3,
   "id": "5de22680",
   "metadata": {},
   "outputs": [],
   "source": [
    "class Solution:\n",
    "    def romanToInt(self, s: str) -> int:\n",
    "        dic = {'I' : 1,'V' : 5,'X' : 10,\n",
    "        'L' : 50,'C' : 100,'D' : 500,'M' : 1000}\n",
    "        sum = 0\n",
    "        le = len(s)\n",
    "        for i in reversed(range(0, le)):\n",
    "            print(i)\n",
    "            if i-1 >=0 and dic[s[i-1]] < dic[s[i]]:   \n",
    "                sum+=dic[s[i]]-2*dic[s[i-1]]\n",
    "                print('sum:', sum ,'roman :', s[i])\n",
    "            else:\n",
    "                sum+=dic[s[i]] \n",
    "                print('sum:', sum , 'roman :', s[i])\n",
    "        return sum  "
   ]
  },
  {
   "cell_type": "markdown",
   "id": "0bcca055",
   "metadata": {},
   "source": [
    "# 14. Longest Common Prefix\n",
    "Write a function to find the longest common prefix string amongst an array of strings.\n",
    "\n",
    "If there is no common prefix, return an empty string \"\"."
   ]
  },
  {
   "cell_type": "code",
   "execution_count": 3,
   "id": "dd93d1e0",
   "metadata": {},
   "outputs": [],
   "source": [
    "class Solution(object):\n",
    "    def longestCommonPrefix(self, strs):\n",
    "        count = 0\n",
    "        strs.sort(key = len)\n",
    "        print(strs)\n",
    "        if (len(strs))>1 :\n",
    "            x = strs[0]\n",
    "            output = []\n",
    "            isnotfound = False\n",
    "            \n",
    "            for ele in x: \n",
    "                index = count\n",
    "                for i in range(1, len(strs)):\n",
    "                    if ele == strs[i][index]:\n",
    "                        pass\n",
    "                    else:\n",
    "                        isnotfound = True\n",
    "                count = count + 1\n",
    "                if isnotfound == True:\n",
    "                    break\n",
    "                output.append(ele)\n",
    "            return \"\".join(str(i) for i in output)\n",
    "        \n",
    "        elif len(strs) == 1 and len(strs[0])  == 0 :\n",
    "            return \"\"\n",
    "        else:\n",
    "            return \"\".join(strs)"
   ]
  },
  {
   "cell_type": "markdown",
   "id": "dfb24483",
   "metadata": {},
   "source": [
    "# 27. Remove Element\n",
    "\n",
    "Given an integer array nums and an integer val, remove all occurrences of val in nums in-place. The relative order of the elements may be changed.\n",
    "\n",
    "Since it is impossible to change the length of the array in some languages, you must instead have the result be placed in the first part of the array nums. More formally, if there are k elements after removing the duplicates, then the first k elements of nums should hold the final result. It does not matter what you leave beyond the first k elements.\n",
    "\n",
    "Return k after placing the final result in the first k slots of nums.\n",
    "\n",
    "Do not allocate extra space for another array. You must do this by modifying the input array in-place with O(1) extra memory."
   ]
  },
  {
   "cell_type": "code",
   "execution_count": 5,
   "id": "8ce3afba",
   "metadata": {},
   "outputs": [],
   "source": [
    "class Solution(object):\n",
    "    def removeElement(self, nums, val):\n",
    "        while nums.count(val):\n",
    "            print('yes')\n",
    "            nums.remove(val)\n",
    "        return len(nums)"
   ]
  },
  {
   "cell_type": "markdown",
   "id": "91a91c5b",
   "metadata": {},
   "source": [
    "# 66. Plus One\n",
    "You are given a large integer represented as an integer array digits, where each digits[i] is the ith digit of the integer. The digits are ordered from most significant to least significant in left-to-right order. The large integer does not contain any leading 0's.\n",
    "\n",
    "Increment the large integer by one and return the resulting array of digits."
   ]
  },
  {
   "cell_type": "code",
   "execution_count": 8,
   "id": "98bb17a0",
   "metadata": {},
   "outputs": [],
   "source": [
    "class Solution:\n",
    "    def plusOne(self, digits):\n",
    "        # x= int(''.join([str(i) for i in digits]))\n",
    "        # x = x + 1\n",
    "        # final = [i for i in str(x)]\n",
    "        \n",
    "        # return final\n",
    "        for i in reversed(range(len(digits))):\n",
    "            digits[i] +=1\n",
    "            if digits[i]<10:\n",
    "                x = digits\n",
    "                return digits\n",
    "            else:\n",
    "                digits[i] = 0              \n",
    "        digits.insert(0,1)\n",
    "        return digits"
   ]
  },
  {
   "cell_type": "markdown",
   "id": "8563fa24",
   "metadata": {},
   "source": [
    "# 136. Single Number\n",
    "\n",
    "Given a non-empty array of integers nums, every element appears twice except for one. Find that single one.\n",
    "\n",
    "You must implement a solution with a linear runtime complexity and use only constant extra space."
   ]
  },
  {
   "cell_type": "code",
   "execution_count": 6,
   "id": "c18e81ae",
   "metadata": {},
   "outputs": [],
   "source": [
    "class Solution(object):\n",
    "    def singleNumber(self, nums):\n",
    "        hash_dic = {}\n",
    "        for ele in nums:\n",
    "            if ele not in hash_dic:\n",
    "                hash_dic[ele] = 1\n",
    "            else:\n",
    "                hash_dic.pop(ele)\n",
    "        for key, values in hash_dic.items():\n",
    "            x = key\n",
    "        return x "
   ]
  },
  {
   "cell_type": "markdown",
   "id": "eb478d6f",
   "metadata": {},
   "source": [
    "# 283. Move Zeroes\n",
    "Given an integer array nums, move all 0's to the end of it while maintaining the relative order of the non-zero elements.\n",
    "\n",
    "Note that you must do this in-place without making a copy of the array."
   ]
  },
  {
   "cell_type": "code",
   "execution_count": 4,
   "id": "9457c5f0",
   "metadata": {},
   "outputs": [],
   "source": [
    "class Solution(object):\n",
    "    def moveZeroes(self, nums):\n",
    "        l = 0\n",
    "        for r in range(len(nums)):\n",
    "            if nums[r]:\n",
    "                nums[l], nums[r] = nums[r], nums[l]\n",
    "                l += 1\n",
    "        return nums   "
   ]
  },
  {
   "cell_type": "code",
   "execution_count": null,
   "id": "626baad8",
   "metadata": {},
   "outputs": [],
   "source": []
  }
 ],
 "metadata": {
  "kernelspec": {
   "display_name": "Python 3 (ipykernel)",
   "language": "python",
   "name": "python3"
  },
  "language_info": {
   "codemirror_mode": {
    "name": "ipython",
    "version": 3
   },
   "file_extension": ".py",
   "mimetype": "text/x-python",
   "name": "python",
   "nbconvert_exporter": "python",
   "pygments_lexer": "ipython3",
   "version": "3.9.12"
  }
 },
 "nbformat": 4,
 "nbformat_minor": 5
}
