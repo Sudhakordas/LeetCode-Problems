{
 "cells": [
  {
   "cell_type": "markdown",
   "id": "8f008aea",
   "metadata": {},
   "source": [
    "# 4. Median of Two Sorted Arrays\n",
    "\n",
    "Given two sorted arrays nums1 and nums2 of size m and n respectively, return the median of the two sorted arrays.\n",
    "\n",
    "The overall run time complexity should be O(log (m+n))."
   ]
  },
  {
   "cell_type": "code",
   "execution_count": 1,
   "id": "2da8ac2e",
   "metadata": {},
   "outputs": [],
   "source": [
    "class Solution(object):\n",
    "    def findMedianSortedArrays(self, nums1, nums2):\n",
    "        combine = nums1 + nums2\n",
    "        combine.sort()\n",
    "        length =  len(combine)\n",
    "        if (length % 2 != 0):\n",
    "            index = int(float(length/2.0)) \n",
    "            median = combine[index]\n",
    "\n",
    "        else:\n",
    "            first_index = int(length/2)\n",
    "            second_index = first_index - 1\n",
    "            median = (combine[first_index] + combine[second_index]) /2.0\n",
    "\n",
    "        return median"
   ]
  },
  {
   "cell_type": "code",
   "execution_count": null,
   "id": "9c1788de",
   "metadata": {},
   "outputs": [],
   "source": []
  }
 ],
 "metadata": {
  "kernelspec": {
   "display_name": "Python 3 (ipykernel)",
   "language": "python",
   "name": "python3"
  },
  "language_info": {
   "codemirror_mode": {
    "name": "ipython",
    "version": 3
   },
   "file_extension": ".py",
   "mimetype": "text/x-python",
   "name": "python",
   "nbconvert_exporter": "python",
   "pygments_lexer": "ipython3",
   "version": "3.9.12"
  }
 },
 "nbformat": 4,
 "nbformat_minor": 5
}
