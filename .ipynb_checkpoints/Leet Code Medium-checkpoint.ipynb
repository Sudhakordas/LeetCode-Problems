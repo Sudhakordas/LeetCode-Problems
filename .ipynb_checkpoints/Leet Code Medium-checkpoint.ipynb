{
 "cells": [
  {
   "cell_type": "markdown",
   "id": "a1005b55",
   "metadata": {},
   "source": [
    "# 7. Reverse Integer\n",
    "\n",
    "Given a signed 32-bit integer x, return x with its digits reversed. If reversing x causes the value to go outside the signed 32-bit integer range [-231, 231 - 1], then return 0.\n",
    "\n",
    "Assume the environment does not allow you to store 64-bit integers (signed or unsigned)."
   ]
  },
  {
   "cell_type": "code",
   "execution_count": null,
   "id": "bc07f5db",
   "metadata": {},
   "outputs": [],
   "source": [
    "class Solution(object):\n",
    "    def reverse(self, x):\n",
    "        rev = 0\n",
    "        ab = abs(x)\n",
    "        print(ab)\n",
    "        while(ab > 0):\n",
    "            global rev \n",
    "            a = ab % 10\n",
    "            rev = rev * 10 + a\n",
    "            ab = ab // 10\n",
    "        if rev >= 2**31-1 or  rev <= -2**31: \n",
    "            return 0\n",
    "        if x>0:\n",
    "             return rev\n",
    "        else:\n",
    "             return rev * (-1)"
   ]
  },
  {
   "cell_type": "markdown",
   "id": "8b963337",
   "metadata": {},
   "source": [
    "# 17. Letter Combinations of a Phone Number\n",
    "\n",
    "Given a string containing digits from 2-9 inclusive, return all possible letter combinations that the number could represent. Return the answer in any order.\n",
    "\n",
    "A mapping of digits to letters (just like on the telephone buttons) is given below. Note that 1 does not map to any letters."
   ]
  },
  {
   "cell_type": "code",
   "execution_count": 4,
   "id": "05c123e7",
   "metadata": {},
   "outputs": [],
   "source": [
    "class Solution(object):\n",
    "    def letterCombinations(self, digits):\n",
    "        phone_map = {'2': 'abc',\n",
    "       '3': 'def',\n",
    "       '4': 'ghi',\n",
    "        '5': 'jkl',\n",
    "        '6': 'mno',\n",
    "        '7': 'pqrs',\n",
    "        '8': 'tuv',\n",
    "        '9': 'wxyz'\n",
    "       }\n",
    "        if digits == '':\n",
    "            return []\n",
    "        numbers = list(phone_map[digits[0]])\n",
    "\n",
    "        for digit in digits[1:]:\n",
    "            numbers = [old + new for old in numbers for new in list(phone_map[digit])]\n",
    "\n",
    "        return numbers"
   ]
  },
  {
   "cell_type": "markdown",
   "id": "a78d8618",
   "metadata": {},
   "source": [
    "# 49. Group Anagrams\n",
    "\n",
    "Given an array of strings strs, group the anagrams together. You can return the answer in any order.\n",
    "\n",
    "An Anagram is a word or phrase formed by rearranging the letters of a different word or phrase, typically using all the original letters exactly once."
   ]
  },
  {
   "cell_type": "code",
   "execution_count": 1,
   "id": "11ba0843",
   "metadata": {},
   "outputs": [],
   "source": [
    "class Solution(object):\n",
    "    def groupAnagrams(self, strs):\n",
    "        dic = {}\n",
    "        for word in strs:\n",
    "            sorted_word = ''.join(sorted(word))\n",
    "            if sorted_word  not in dic:\n",
    "                dic[sorted_word] = [word]\n",
    "\n",
    "            else:\n",
    "                dic[sorted_word].append(word)\n",
    "\n",
    "        gp_ana = []\n",
    "\n",
    "        for items in dic.values():\n",
    "            gp_ana.append(items)\n",
    "            \n",
    "        return gp_ana"
   ]
  },
  {
   "cell_type": "code",
   "execution_count": null,
   "id": "11122eae",
   "metadata": {},
   "outputs": [],
   "source": []
  },
  {
   "cell_type": "markdown",
   "id": "db8211a4",
   "metadata": {},
   "source": [
    "# 229. Majority Element II\n",
    "\n",
    "Given an integer array of size n, find all elements that appear more than ⌊ n/3 ⌋ times."
   ]
  },
  {
   "cell_type": "code",
   "execution_count": 3,
   "id": "d6f5c85a",
   "metadata": {},
   "outputs": [],
   "source": [
    "import numpy as np\n",
    "class Solution(object):\n",
    "    def majorityElement(self, nums):\n",
    "        majo = []\n",
    "        li = {}\n",
    "        unique = np.unique(nums)\n",
    "        for n in unique:\n",
    "            if n not in li:\n",
    "                li[n] = 'yes'\n",
    "            if nums.count(n) > int(len(nums)/3):\n",
    "                majo.append(n)\n",
    "        return majo"
   ]
  },
  {
   "cell_type": "markdown",
   "id": "becba4de",
   "metadata": {},
   "source": [
    "# 347. Top K Frequent Elements\n",
    "\n",
    "Given an integer array nums and an integer k, return the k most frequent elements. You may return the answer in any order."
   ]
  },
  {
   "cell_type": "code",
   "execution_count": 2,
   "id": "ea5f879c",
   "metadata": {},
   "outputs": [],
   "source": [
    "class Solution(object):\n",
    "    def topKFrequent(self, nums, k):\n",
    "        \n",
    "        dic = {}\n",
    "        for i in nums:\n",
    "            if i not in dic:\n",
    "                dic[i] = 1\n",
    "            else:\n",
    "                dic[i] +=1\n",
    "\n",
    "        return sorted(dic, key = dic.get, reverse = True)[:k]"
   ]
  },
  {
   "cell_type": "markdown",
   "id": "cae44028",
   "metadata": {},
   "source": [
    "# 1324. Print Words Vertically\n",
    "\n",
    "Given a string s. Return all the words vertically in the same order in which they appear in s.\n",
    "Words are returned as a list of strings, complete with spaces when is necessary. (Trailing spaces are not allowed).\n",
    "Each word would be put on only one column and that in one column there will be only one word."
   ]
  },
  {
   "cell_type": "code",
   "execution_count": null,
   "id": "dcb4ed72",
   "metadata": {},
   "outputs": [],
   "source": [
    "class Solution:\n",
    "    def printVertically(self, s: str) -> List[str]:\n",
    "        s = s.split()\n",
    "        k = len(max(s, key = len))\n",
    "        i = 0\n",
    "        vertical = []\n",
    "        while(i<k):\n",
    "            ver = ''\n",
    "            for word in s:\n",
    "                try:\n",
    "                    print(word[i],end='')\n",
    "                    ver = ver + word[i]\n",
    "                except:\n",
    "                    ver = ver + ' '\n",
    "            vertical.append(ver.rstrip())\n",
    "            i+=1\n",
    "        return vertical"
   ]
  },
  {
   "cell_type": "code",
   "execution_count": null,
   "id": "ab948659",
   "metadata": {},
   "outputs": [],
   "source": []
  }
 ],
 "metadata": {
  "kernelspec": {
   "display_name": "Python 3 (ipykernel)",
   "language": "python",
   "name": "python3"
  },
  "language_info": {
   "codemirror_mode": {
    "name": "ipython",
    "version": 3
   },
   "file_extension": ".py",
   "mimetype": "text/x-python",
   "name": "python",
   "nbconvert_exporter": "python",
   "pygments_lexer": "ipython3",
   "version": "3.9.12"
  }
 },
 "nbformat": 4,
 "nbformat_minor": 5
}
