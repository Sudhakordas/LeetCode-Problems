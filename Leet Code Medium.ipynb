{
 "cells": [
  {
   "cell_type": "markdown",
   "id": "a1005b55",
   "metadata": {},
   "source": [
    "# 7. Reverse Integer\n",
    "\n",
    "Given a signed 32-bit integer x, return x with its digits reversed. If reversing x causes the value to go outside the signed 32-bit integer range [-231, 231 - 1], then return 0.\n",
    "\n",
    "Assume the environment does not allow you to store 64-bit integers (signed or unsigned)."
   ]
  },
  {
   "cell_type": "code",
   "execution_count": null,
   "id": "bc07f5db",
   "metadata": {},
   "outputs": [],
   "source": [
    "class Solution(object):\n",
    "    def reverse(self, x):\n",
    "        rev = 0\n",
    "        ab = abs(x)\n",
    "        print(ab)\n",
    "        while(ab > 0):\n",
    "            global rev \n",
    "            a = ab % 10\n",
    "            rev = rev * 10 + a\n",
    "            ab = ab // 10\n",
    "        if rev >= 2**31-1 or  rev <= -2**31: \n",
    "            return 0\n",
    "        if x>0:\n",
    "             return rev\n",
    "        else:\n",
    "             return rev * (-1)"
   ]
  },
  {
   "cell_type": "markdown",
   "id": "db8211a4",
   "metadata": {},
   "source": [
    "# 229. Majority Element II\n",
    "\n",
    "Given an integer array of size n, find all elements that appear more than ⌊ n/3 ⌋ times."
   ]
  },
  {
   "cell_type": "code",
   "execution_count": 3,
   "id": "d6f5c85a",
   "metadata": {},
   "outputs": [],
   "source": [
    "import numpy as np\n",
    "class Solution(object):\n",
    "    def majorityElement(self, nums):\n",
    "        majo = []\n",
    "        li = {}\n",
    "        unique = np.unique(nums)\n",
    "        for n in unique:\n",
    "            if n not in li:\n",
    "                li[n] = 'yes'\n",
    "            if nums.count(n) > int(len(nums)/3):\n",
    "                majo.append(n)\n",
    "        return majo"
   ]
  },
  {
   "cell_type": "code",
   "execution_count": null,
   "id": "7a9d42dc",
   "metadata": {},
   "outputs": [],
   "source": []
  }
 ],
 "metadata": {
  "kernelspec": {
   "display_name": "Python 3 (ipykernel)",
   "language": "python",
   "name": "python3"
  },
  "language_info": {
   "codemirror_mode": {
    "name": "ipython",
    "version": 3
   },
   "file_extension": ".py",
   "mimetype": "text/x-python",
   "name": "python",
   "nbconvert_exporter": "python",
   "pygments_lexer": "ipython3",
   "version": "3.9.12"
  }
 },
 "nbformat": 4,
 "nbformat_minor": 5
}
